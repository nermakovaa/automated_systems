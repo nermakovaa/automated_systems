{
 "cells": [
  {
   "cell_type": "markdown",
   "metadata": {},
   "source": [
    "### **i.\tРазработка и тестирование синтаксического анализатора для обработки html страниц**"
   ]
  },
  {
   "attachments": {},
   "cell_type": "markdown",
   "metadata": {},
   "source": [
    "Библиотеки/модули:\n",
    "\n",
    "- `requests` для удобного выполнения HTTP-запросов\n",
    "- `BeautifulSoup` для синтаксического анализа HTML \n",
    "- `sleep`\n",
    "- `pandas` для итоговой таблицы"
   ]
  },
  {
   "cell_type": "code",
   "execution_count": 2,
   "metadata": {},
   "outputs": [],
   "source": [
    "import requests\n",
    "from bs4 import BeautifulSoup as BS\n",
    "from time import sleep\n",
    "import pandas as pd"
   ]
  },
  {
   "attachments": {},
   "cell_type": "markdown",
   "metadata": {},
   "source": [
    "В качестве веб-ресурса для парсинга был взят [Нож](https://knife.media/), который является российским независимым интернет-изданием (журнал о культуре и обществе). Для извлечения данных была выбрана [новостная страница](https://knife.media/category/news/')."
   ]
  },
  {
   "cell_type": "code",
   "execution_count": 3,
   "metadata": {},
   "outputs": [
    {
     "name": "stdout",
     "output_type": "stream",
     "text": [
      "200\n"
     ]
    }
   ],
   "source": [
    "url = 'https://knife.media/category/news/'\n",
    "r = requests.get(url)\n",
    "print(r.status_code) # проверим подключение"
   ]
  },
  {
   "cell_type": "code",
   "execution_count": 4,
   "metadata": {},
   "outputs": [],
   "source": [
    "soup = BS(r.text, 'lxml')"
   ]
  },
  {
   "attachments": {},
   "cell_type": "markdown",
   "metadata": {},
   "source": [
    "Далее просто извлекаю релевантную информацию:"
   ]
  },
  {
   "cell_type": "code",
   "execution_count": 5,
   "metadata": {},
   "outputs": [
    {
     "data": {
      "text/plain": [
       "'https://knife.media/cholerae-who/'"
      ]
     },
     "execution_count": 5,
     "metadata": {},
     "output_type": "execute_result"
    }
   ],
   "source": [
    "link = soup.find('div', class_='widget-news__wrapper').find('a', class_='widget-news__content-link').get('href')\n",
    "link"
   ]
  },
  {
   "cell_type": "code",
   "execution_count": 6,
   "metadata": {},
   "outputs": [
    {
     "data": {
      "text/plain": [
       "'Больше миллиарда людей в мире могут заболеть холерой — ВОЗ'"
      ]
     },
     "execution_count": 6,
     "metadata": {},
     "output_type": "execute_result"
    }
   ],
   "source": [
    "title = soup.find('div', class_='widget-news__wrapper').find('a', class_='widget-news__content-link').text\n",
    "title"
   ]
  },
  {
   "cell_type": "code",
   "execution_count": 7,
   "metadata": {},
   "outputs": [
    {
     "data": {
      "text/plain": [
       "'20:52'"
      ]
     },
     "execution_count": 7,
     "metadata": {},
     "output_type": "execute_result"
    }
   ],
   "source": [
    "time = soup.find('div', class_='widget-news__wrapper').find('span', class_='meta__item').text\n",
    "time"
   ]
  },
  {
   "cell_type": "code",
   "execution_count": 8,
   "metadata": {},
   "outputs": [
    {
     "data": {
      "text/plain": [
       "'24 февраля'"
      ]
     },
     "execution_count": 8,
     "metadata": {},
     "output_type": "execute_result"
    }
   ],
   "source": [
    "date = soup.find('div', class_='widget-news__wrapper').findAll('span', class_='meta__item')[1].text\n",
    "date"
   ]
  },
  {
   "cell_type": "code",
   "execution_count": 9,
   "metadata": {},
   "outputs": [
    {
     "data": {
      "text/plain": [
       "'мир, здоровье'"
      ]
     },
     "execution_count": 9,
     "metadata": {},
     "output_type": "execute_result"
    }
   ],
   "source": [
    "# ????\n",
    "\n",
    "topics = soup.find('div', class_='widget-news__wrapper').findAll('a', class_='meta__item')[0].text + ', ' + soup.find('div', class_='widget-news__wrapper').findAll('a', class_='meta__item')[1].text\n",
    "topics"
   ]
  },
  {
   "cell_type": "code",
   "execution_count": 10,
   "metadata": {},
   "outputs": [
    {
     "data": {
      "text/plain": [
       "[<a class=\"meta__item\" href=\"https://knife.media/tag/world/\">мир</a>,\n",
       " <a class=\"meta__item\" href=\"https://knife.media/tag/health/\">здоровье</a>]"
      ]
     },
     "execution_count": 10,
     "metadata": {},
     "output_type": "execute_result"
    }
   ],
   "source": [
    "# ???? - как нормально названия топиков получить?? - чтобы потом в цикл загнать\n",
    "\n",
    "topics = soup.find('div', class_='widget-news__wrapper').findAll('a', class_='meta__item')\n",
    "topics"
   ]
  },
  {
   "attachments": {},
   "cell_type": "markdown",
   "metadata": {},
   "source": [
    "Тут задаю цикл для парсинга:"
   ]
  },
  {
   "cell_type": "code",
   "execution_count": 11,
   "metadata": {},
   "outputs": [
    {
     "name": "stdout",
     "output_type": "stream",
     "text": [
      "1\n",
      "2\n",
      "3\n",
      "4\n",
      "5\n"
     ]
    }
   ],
   "source": [
    "data = []\n",
    "\n",
    "for p in range(1, 6):\n",
    "    print(p)\n",
    "\n",
    "    url = f'https://knife.media/category/news/page/{p}'\n",
    "    r = requests.get(url)\n",
    "    sleep(3)\n",
    "    soup = BS(r.text, 'lxml')\n",
    "\n",
    "    titles = soup.findAll('div', class_='widget-news__wrapper')\n",
    "\n",
    "    for title in titles:\n",
    "        article_title = title.find('a', class_='widget-news__content-link').text\n",
    "        link = title.find('a', class_='widget-news__content-link').get('href')\n",
    "        time = title.find('span', class_='meta__item').text\n",
    "        date = title.findAll('span', class_='meta__item')[1].text\n",
    "\n",
    "        data.append([article_title, link, time, date])"
   ]
  },
  {
   "cell_type": "code",
   "execution_count": 12,
   "metadata": {},
   "outputs": [
    {
     "data": {
      "text/plain": [
       "100"
      ]
     },
     "execution_count": 12,
     "metadata": {},
     "output_type": "execute_result"
    }
   ],
   "source": [
    "len(data)"
   ]
  },
  {
   "attachments": {},
   "cell_type": "markdown",
   "metadata": {},
   "source": [
    "Выгружаю данные:"
   ]
  },
  {
   "cell_type": "code",
   "execution_count": 13,
   "metadata": {},
   "outputs": [],
   "source": [
    "header = ['article_title', 'link', 'date', 'time']\n",
    "df = pd.DataFrame(data, columns=header)\n",
    "df.to_csv('/home/ermak/semester_2/Automated_systems/automated_systems/news.csv', sep=';', encoding='utf8')"
   ]
  }
 ],
 "metadata": {
  "kernelspec": {
   "display_name": "Python 3",
   "language": "python",
   "name": "python3"
  },
  "language_info": {
   "codemirror_mode": {
    "name": "ipython",
    "version": 3
   },
   "file_extension": ".py",
   "mimetype": "text/x-python",
   "name": "python",
   "nbconvert_exporter": "python",
   "pygments_lexer": "ipython3",
   "version": "3.10.6"
  },
  "orig_nbformat": 4,
  "vscode": {
   "interpreter": {
    "hash": "916dbcbb3f70747c44a77c7bcd40155683ae19c65e1c03b4aa3499c5328201f1"
   }
  }
 },
 "nbformat": 4,
 "nbformat_minor": 2
}
